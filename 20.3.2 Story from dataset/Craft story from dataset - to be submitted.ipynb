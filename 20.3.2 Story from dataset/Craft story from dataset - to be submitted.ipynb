{
 "cells": [
  {
   "cell_type": "markdown",
   "id": "1ac85559",
   "metadata": {},
   "source": [
    "## Table of content\n",
    "1) Load libraries and prepare data  \n",
    "1.1) Load libraries  \n",
    "1.2) Prepare data  \n",
    "\n",
    "2) Survival analysis  \n",
    "2.1) Wrong way  \n",
    "2.2) Survival curve - Kaplan Meier estimates  \n",
    "2.3) Kaplan Meier estimates for above- and below-median groups (epss and lvdd)  \n",
    "2.4) Hypothesis testing - Log-rank test  \n",
    "2.5) Cox Proportional Hazards model  \n",
    "2.6) Testing proportional hazards assumption  \n",
    "\n",
    "3) Summary\n"
   ]
  },
  {
   "cell_type": "markdown",
   "id": "d703ac8f",
   "metadata": {},
   "source": [
    "## 1) Load libraries and prepare data"
   ]
  },
  {
   "cell_type": "markdown",
   "id": "261ded1a",
   "metadata": {},
   "source": [
    "### 1.1) Load libraries"
   ]
  },
  {
   "cell_type": "code",
   "execution_count": 1,
   "id": "bc4c28f6",
   "metadata": {},
   "outputs": [],
   "source": [
    "# Import packages\n",
    "import numpy as np\n",
    "import pandas as pd\n",
    "\n",
    "from sklearn.impute import SimpleImputer\n",
    "\n",
    "from scipy.stats import pearsonr\n",
    "\n",
    "import statistics\n",
    "\n",
    "from lifelines import KaplanMeierFitter\n",
    "from lifelines.statistics import logrank_test\n",
    "from lifelines import CoxPHFitter\n",
    "\n",
    "import matplotlib.pyplot as plt"
   ]
  },
  {
   "cell_type": "markdown",
   "id": "780646da",
   "metadata": {},
   "source": [
    "### 1.2) Prepare data"
   ]
  },
  {
   "cell_type": "code",
   "execution_count": 2,
   "id": "cb946f60",
   "metadata": {},
   "outputs": [],
   "source": [
    "# Load the data. This data has been cleaned and fillna.\n",
    "df = pd.read_csv(\"df.csv\", index_col=0)"
   ]
  },
  {
   "cell_type": "code",
   "execution_count": 3,
   "id": "63c83a33",
   "metadata": {},
   "outputs": [],
   "source": [
    "# Create variable \"dead\" as for argument \"event_observed\"\n",
    "df.loc[df.alive == 1, 'dead'] = 0\n",
    "df.loc[df.alive == 0, 'dead'] = 1"
   ]
  },
  {
   "cell_type": "code",
   "execution_count": 4,
   "id": "16ad745d",
   "metadata": {},
   "outputs": [
    {
     "data": {
      "text/html": [
       "<div>\n",
       "<style scoped>\n",
       "    .dataframe tbody tr th:only-of-type {\n",
       "        vertical-align: middle;\n",
       "    }\n",
       "\n",
       "    .dataframe tbody tr th {\n",
       "        vertical-align: top;\n",
       "    }\n",
       "\n",
       "    .dataframe thead th {\n",
       "        text-align: right;\n",
       "    }\n",
       "</style>\n",
       "<table border=\"1\" class=\"dataframe\">\n",
       "  <thead>\n",
       "    <tr style=\"text-align: right;\">\n",
       "      <th></th>\n",
       "      <th>survival</th>\n",
       "      <th>alive</th>\n",
       "      <th>pericardialeffusion</th>\n",
       "      <th>age</th>\n",
       "      <th>fractionalshortening</th>\n",
       "      <th>epss</th>\n",
       "      <th>lvdd</th>\n",
       "      <th>wallmotion_index</th>\n",
       "      <th>dead</th>\n",
       "    </tr>\n",
       "  </thead>\n",
       "  <tbody>\n",
       "    <tr>\n",
       "      <th>0</th>\n",
       "      <td>11.0</td>\n",
       "      <td>0</td>\n",
       "      <td>0</td>\n",
       "      <td>71.0</td>\n",
       "      <td>0.260</td>\n",
       "      <td>9.000</td>\n",
       "      <td>4.600</td>\n",
       "      <td>1.00</td>\n",
       "      <td>1.0</td>\n",
       "    </tr>\n",
       "    <tr>\n",
       "      <th>1</th>\n",
       "      <td>19.0</td>\n",
       "      <td>0</td>\n",
       "      <td>0</td>\n",
       "      <td>72.0</td>\n",
       "      <td>0.380</td>\n",
       "      <td>6.000</td>\n",
       "      <td>4.100</td>\n",
       "      <td>1.70</td>\n",
       "      <td>1.0</td>\n",
       "    </tr>\n",
       "    <tr>\n",
       "      <th>2</th>\n",
       "      <td>16.0</td>\n",
       "      <td>0</td>\n",
       "      <td>0</td>\n",
       "      <td>55.0</td>\n",
       "      <td>0.260</td>\n",
       "      <td>4.000</td>\n",
       "      <td>3.420</td>\n",
       "      <td>1.00</td>\n",
       "      <td>1.0</td>\n",
       "    </tr>\n",
       "    <tr>\n",
       "      <th>3</th>\n",
       "      <td>57.0</td>\n",
       "      <td>0</td>\n",
       "      <td>0</td>\n",
       "      <td>60.0</td>\n",
       "      <td>0.253</td>\n",
       "      <td>12.062</td>\n",
       "      <td>4.603</td>\n",
       "      <td>1.45</td>\n",
       "      <td>1.0</td>\n",
       "    </tr>\n",
       "    <tr>\n",
       "      <th>4</th>\n",
       "      <td>19.0</td>\n",
       "      <td>1</td>\n",
       "      <td>0</td>\n",
       "      <td>57.0</td>\n",
       "      <td>0.160</td>\n",
       "      <td>22.000</td>\n",
       "      <td>5.750</td>\n",
       "      <td>2.25</td>\n",
       "      <td>0.0</td>\n",
       "    </tr>\n",
       "  </tbody>\n",
       "</table>\n",
       "</div>"
      ],
      "text/plain": [
       "   survival  alive  pericardialeffusion   age  fractionalshortening    epss  \\\n",
       "0      11.0      0                    0  71.0                 0.260   9.000   \n",
       "1      19.0      0                    0  72.0                 0.380   6.000   \n",
       "2      16.0      0                    0  55.0                 0.260   4.000   \n",
       "3      57.0      0                    0  60.0                 0.253  12.062   \n",
       "4      19.0      1                    0  57.0                 0.160  22.000   \n",
       "\n",
       "    lvdd  wallmotion_index  dead  \n",
       "0  4.600              1.00   1.0  \n",
       "1  4.100              1.70   1.0  \n",
       "2  3.420              1.00   1.0  \n",
       "3  4.603              1.45   1.0  \n",
       "4  5.750              2.25   0.0  "
      ]
     },
     "execution_count": 4,
     "metadata": {},
     "output_type": "execute_result"
    }
   ],
   "source": [
    "df.head()"
   ]
  },
  {
   "cell_type": "markdown",
   "id": "2cf987aa",
   "metadata": {},
   "source": [
    "- The dataset is about the survival time in months after suffering heart attach. We have 130 obseravations; the data has been cleaned and filled missing values.\n",
    "- Normally in a marchine learning problem, we have only one outcome variable for example survival time. But for survival analysis we have censoring. I.e. we have to stop our study at some time (i.e. we do not have the money to continue study forever).\n",
    "    - So we have two outcome variables: \"survival\" = survival time in months.\n",
    "    - \"dead\" whether the event (dead) was observed by the end of the study.\n",
    "    - Show difference in observations 0 and 4 \n",
    "    - \"live\" is opposite to \"dead\". We can ignore this variable.\n",
    "- Other features are the conditions of the patients at the time of heart attact.\n",
    "    - \"pericardialeffusion\" is binary variable whether there is fluid around heart.\n",
    "    - Other variables are different measurements of the heart.\n",
    "\n",
    "- Natural research question would be how these features affect the patients' survival time? "
   ]
  },
  {
   "cell_type": "markdown",
   "id": "69057f57",
   "metadata": {},
   "source": [
    "## 2) Survival analysis"
   ]
  },
  {
   "cell_type": "markdown",
   "id": "6299e0fb",
   "metadata": {},
   "source": [
    "### 2.1) Wrong way"
   ]
  },
  {
   "cell_type": "code",
   "execution_count": 5,
   "id": "921eec91",
   "metadata": {},
   "outputs": [
    {
     "data": {
      "text/plain": [
       "1.0    88\n",
       "0.0    42\n",
       "Name: dead, dtype: int64"
      ]
     },
     "execution_count": 5,
     "metadata": {},
     "output_type": "execute_result"
    }
   ],
   "source": [
    "df[\"dead\"].value_counts()"
   ]
  },
  {
   "cell_type": "markdown",
   "id": "537738a9",
   "metadata": {},
   "source": [
    "- 42 observations are censored. I.e. 42 patients were still alive at the end of the study.\n",
    "    - Rule of thumb \"if more than 50% of observations are censored, survival analysis has limited effectiveness\" => here we are OK with 42 censored out of 130."
   ]
  },
  {
   "cell_type": "markdown",
   "id": "20764247",
   "metadata": {},
   "source": [
    "#### Correlation between survival time and features for observations with \"dead\" = 1"
   ]
  },
  {
   "cell_type": "code",
   "execution_count": 10,
   "id": "0de889c8",
   "metadata": {},
   "outputs": [
    {
     "data": {
      "text/plain": [
       "pericardialeffusion    -0.05\n",
       "age                    -0.00\n",
       "fractionalshortening    0.08\n",
       "epss                   -0.12\n",
       "lvdd                   -0.11\n",
       "wallmotion_index       -0.07\n",
       "Name: survival, dtype: float64"
      ]
     },
     "execution_count": 10,
     "metadata": {},
     "output_type": "execute_result"
    }
   ],
   "source": [
    "# Correlation of survival time and covariate for observations that are not censored\n",
    "df[df[\"dead\"]==1].corr().round(2).iloc[0, 2:8]"
   ]
  },
  {
   "cell_type": "code",
   "execution_count": 14,
   "id": "a64cfcfe",
   "metadata": {},
   "outputs": [
    {
     "data": {
      "text/plain": [
       "PearsonRResult(statistic=-0.11754605355674923, pvalue=0.27540506445717433)"
      ]
     },
     "execution_count": 14,
     "metadata": {},
     "output_type": "execute_result"
    }
   ],
   "source": [
    "pearsonr(df[df[\"dead\"]==1].survival, df[df[\"dead\"]==1].epss)"
   ]
  },
  {
   "cell_type": "code",
   "execution_count": 12,
   "id": "3391cb30",
   "metadata": {},
   "outputs": [
    {
     "data": {
      "text/plain": [
       "PearsonRResult(statistic=-0.10686382475838245, pvalue=0.3216957388728704)"
      ]
     },
     "execution_count": 12,
     "metadata": {},
     "output_type": "execute_result"
    }
   ],
   "source": [
    "pearsonr(df[df[\"dead\"]==1].survival, df[df[\"dead\"]==1].lvdd)"
   ]
  },
  {
   "cell_type": "markdown",
   "id": "30a49dbe",
   "metadata": {},
   "source": [
    "- Correlation of \"survival\" and features are low. The two highest correlations are with epss and lvdd. Correlation values are -0.12 and -0.11.\n",
    "    - The correlations are not significant. This might highlight the challenge of using this dataset - only small number of observations.\n",
    "\n",
    "- RESEARCH QUESTION: Now let narrow the research question: if epss and lvdd affect the survival time of the patients?\n",
    "\n",
    "- But we just follow a \"Wrong way\". The fact that a patient live until the end of the study include valuable information. We should not throw those observations away."
   ]
  },
  {
   "cell_type": "markdown",
   "id": "e2d20f86",
   "metadata": {},
   "source": [
    "### 2.2) Survival curve - Kaplan Meier estimates"
   ]
  },
  {
   "cell_type": "code",
   "execution_count": 15,
   "id": "79c9a6df",
   "metadata": {},
   "outputs": [
    {
     "data": {
      "text/plain": [
       "<lifelines.KaplanMeierFitter:\"KM_estimate\", fitted with 130 total observations, 42 right-censored observations>"
      ]
     },
     "execution_count": 15,
     "metadata": {},
     "output_type": "execute_result"
    }
   ],
   "source": [
    "kmf = KaplanMeierFitter()\n",
    "kmf.fit(durations=df[\"survival\"], event_observed=df[\"dead\"])"
   ]
  },
  {
   "cell_type": "code",
   "execution_count": 16,
   "id": "4ce244d0",
   "metadata": {
    "scrolled": false
   },
   "outputs": [
    {
     "data": {
      "text/plain": [
       "<AxesSubplot:xlabel='timeline'>"
      ]
     },
     "execution_count": 16,
     "metadata": {},
     "output_type": "execute_result"
    },
    {
     "data": {
      "image/png": "[encoded data removed]",
      "text/plain": [
       "<Figure size 640x480 with 1 Axes>"
      ]
     },
     "metadata": {},
     "output_type": "display_data"
    }
   ],
   "source": [
    "kmf.survival_function_.plot()"
   ]
  },
  {
   "cell_type": "code",
   "execution_count": 17,
   "id": "05fa244d",
   "metadata": {},
   "outputs": [
    {
     "name": "stdout",
     "output_type": "stream",
     "text": [
      "29.0 29.0\n"
     ]
    }
   ],
   "source": [
    "print(kmf.median_survival_time_, statistics.median(df[df[\"dead\"]==1]['survival']))\n",
    "# Should these two numbers are equal???"
   ]
  },
  {
   "cell_type": "code",
   "execution_count": 18,
   "id": "e15ab6df",
   "metadata": {},
   "outputs": [
    {
     "name": "stdout",
     "output_type": "stream",
     "text": [
      "23.5\n"
     ]
    }
   ],
   "source": [
    "print(statistics.median(df['survival']))"
   ]
  },
  {
   "cell_type": "code",
   "execution_count": 19,
   "id": "93d49aaf",
   "metadata": {},
   "outputs": [
    {
     "data": {
      "text/plain": [
       "0.07334904033084463"
      ]
     },
     "execution_count": 19,
     "metadata": {},
     "output_type": "execute_result"
    }
   ],
   "source": [
    "kmf.predict(50)"
   ]
  },
  {
   "cell_type": "markdown",
   "id": "5013aff7",
   "metadata": {},
   "source": [
    "- Here we have survival curve. Show x=29 => y=50; this means the probability survive longer than 29 months is 50%."
   ]
  },
  {
   "cell_type": "markdown",
   "id": "dbcf315f",
   "metadata": {},
   "source": [
    "### 2.3) Kaplan Meier estimates for above- and below-median groups (epss and lvdd)"
   ]
  },
  {
   "cell_type": "code",
   "execution_count": 20,
   "id": "1a12e580",
   "metadata": {},
   "outputs": [],
   "source": [
    "T = df['survival']\n",
    "E = df['dead']"
   ]
  },
  {
   "cell_type": "code",
   "execution_count": 21,
   "id": "8ff96290",
   "metadata": {},
   "outputs": [],
   "source": [
    "# Write function to plot for groups\n",
    "def kmf_by_gr(var):\n",
    "    group = df[var] < statistics.median(df[var]) # group is series of boolean\n",
    "    ax = plt.subplot(111)\n",
    "    kmf.fit(T[group], event_observed = E[group], label = (var + ' below median'))\n",
    "    print(kmf)\n",
    "    kmf.survival_function_.plot(ax = ax)\n",
    "    kmf.fit(T[~group], event_observed = E[~group], label = (var + ' above median'))\n",
    "    print(kmf)\n",
    "    kmf.survival_function_.plot(ax = ax)\n",
    "    plt.title((\"Kaplan Meier estimates by \" + var + \" group\"))\n",
    "    plt.xlabel(\"Month after heart attack\")\n",
    "    plt.ylabel(\"Survival\")\n",
    "    plt.show()"
   ]
  },
  {
   "cell_type": "code",
   "execution_count": 22,
   "id": "b8e1da81",
   "metadata": {
    "scrolled": false
   },
   "outputs": [
    {
     "name": "stdout",
     "output_type": "stream",
     "text": [
      "<lifelines.KaplanMeierFitter:\"epss below median\", fitted with 63 total observations, 11 right-censored observations>\n",
      "<lifelines.KaplanMeierFitter:\"epss above median\", fitted with 67 total observations, 31 right-censored observations>\n"
     ]
    },
    {
     "data": {
      "image/png": "[encoded data removed]",
      "text/plain": [
       "<Figure size 640x480 with 1 Axes>"
      ]
     },
     "metadata": {},
     "output_type": "display_data"
    },
    {
     "name": "stdout",
     "output_type": "stream",
     "text": [
      "<lifelines.KaplanMeierFitter:\"lvdd below median\", fitted with 64 total observations, 11 right-censored observations>\n",
      "<lifelines.KaplanMeierFitter:\"lvdd above median\", fitted with 66 total observations, 31 right-censored observations>\n"
     ]
    },
    {
     "data": {
      "image/png": "[encoded data removed]",
      "text/plain": [
       "<Figure size 640x480 with 1 Axes>"
      ]
     },
     "metadata": {},
     "output_type": "display_data"
    }
   ],
   "source": [
    "for var in [\"epss\", \"lvdd\"]:\n",
    "    kmf_by_gr(var)"
   ]
  },
  {
   "cell_type": "markdown",
   "id": "103f47cf",
   "metadata": {},
   "source": [
    "- Now we divide the sample into two subsample below- and above-median of epss (or lvdd).\n",
    "- Remember when we carry the analysis the wrong way epss and lvdd have similar correlaton with survival time. Now we do the correct way and see it seems that epss affects survival time, and lvdd does not.\n",
    "    - The survival curve for subsample with epss that below the median is above for those with high epss. That is for any given time, the prob of survival longer than this time is higher for low epss."
   ]
  },
  {
   "cell_type": "markdown",
   "id": "04c5fcc5",
   "metadata": {},
   "source": [
    "### 2.4) Hypothesis testing - Log-rank test"
   ]
  },
  {
   "cell_type": "code",
   "execution_count": null,
   "id": "1e78ef91",
   "metadata": {},
   "outputs": [],
   "source": [
    "# Some of code is take from this example https://www.kaggle.com/code/yukikitayama/survival-analysis"
   ]
  },
  {
   "cell_type": "markdown",
   "id": "73b6e7d2",
   "metadata": {},
   "source": [
    "#### Testing for epss groups\n",
    "#### H_0: Two subsamples (below- and above-median) by epss have the same survival curves.\n",
    "#### H_1: They have different survival curves."
   ]
  },
  {
   "cell_type": "code",
   "execution_count": 25,
   "id": "4c800d23",
   "metadata": {},
   "outputs": [
    {
     "data": {
      "text/html": [
       "<div>\n",
       "<style scoped>\n",
       "    .dataframe tbody tr th:only-of-type {\n",
       "        vertical-align: middle;\n",
       "    }\n",
       "\n",
       "    .dataframe tbody tr th {\n",
       "        vertical-align: top;\n",
       "    }\n",
       "\n",
       "    .dataframe thead th {\n",
       "        text-align: right;\n",
       "    }\n",
       "</style>\n",
       "<table border=\"1\" class=\"dataframe\">\n",
       "  <tbody>\n",
       "    <tr>\n",
       "      <th>t_0</th>\n",
       "      <td>-1</td>\n",
       "    </tr>\n",
       "    <tr>\n",
       "      <th>null_distribution</th>\n",
       "      <td>chi squared</td>\n",
       "    </tr>\n",
       "    <tr>\n",
       "      <th>degrees_of_freedom</th>\n",
       "      <td>1</td>\n",
       "    </tr>\n",
       "    <tr>\n",
       "      <th>test_name</th>\n",
       "      <td>logrank_test</td>\n",
       "    </tr>\n",
       "  </tbody>\n",
       "</table>\n",
       "</div><table border=\"1\" class=\"dataframe\">\n",
       "  <thead>\n",
       "    <tr style=\"text-align: right;\">\n",
       "      <th></th>\n",
       "      <th>test_statistic</th>\n",
       "      <th>p</th>\n",
       "      <th>-log2(p)</th>\n",
       "    </tr>\n",
       "  </thead>\n",
       "  <tbody>\n",
       "    <tr>\n",
       "      <th>0</th>\n",
       "      <td>1.03</td>\n",
       "      <td>0.31</td>\n",
       "      <td>1.69</td>\n",
       "    </tr>\n",
       "  </tbody>\n",
       "</table>"
      ],
      "text/latex": [
       "\\begin{tabular}{lrrr}\n",
       " & test_statistic & p & -log2(p) \\\\\n",
       "0 & 1.03 & 0.31 & 1.69 \\\\\n",
       "\\end{tabular}\n"
      ],
      "text/plain": [
       "<lifelines.StatisticalResult: logrank_test>\n",
       "               t_0 = -1\n",
       " null_distribution = chi squared\n",
       "degrees_of_freedom = 1\n",
       "         test_name = logrank_test\n",
       "\n",
       "---\n",
       " test_statistic    p  -log2(p)\n",
       "           1.03 0.31      1.69"
      ]
     },
     "execution_count": 25,
     "metadata": {},
     "output_type": "execute_result"
    }
   ],
   "source": [
    "epss_group = df['epss'] < statistics.median(df['epss'])\n",
    "\n",
    "lrt = logrank_test(\n",
    "    durations_A = T[epss_group],\n",
    "    durations_B = T[~epss_group],\n",
    "    event_observed_A = E[epss_group],\n",
    "    event_observed_B = E[~epss_group])\n",
    "lrt"
   ]
  },
  {
   "cell_type": "markdown",
   "id": "65333470",
   "metadata": {},
   "source": [
    "#### Testing for lvdd groups"
   ]
  },
  {
   "cell_type": "code",
   "execution_count": 26,
   "id": "0a084fef",
   "metadata": {},
   "outputs": [
    {
     "data": {
      "text/html": [
       "<div>\n",
       "<style scoped>\n",
       "    .dataframe tbody tr th:only-of-type {\n",
       "        vertical-align: middle;\n",
       "    }\n",
       "\n",
       "    .dataframe tbody tr th {\n",
       "        vertical-align: top;\n",
       "    }\n",
       "\n",
       "    .dataframe thead th {\n",
       "        text-align: right;\n",
       "    }\n",
       "</style>\n",
       "<table border=\"1\" class=\"dataframe\">\n",
       "  <tbody>\n",
       "    <tr>\n",
       "      <th>t_0</th>\n",
       "      <td>-1</td>\n",
       "    </tr>\n",
       "    <tr>\n",
       "      <th>null_distribution</th>\n",
       "      <td>chi squared</td>\n",
       "    </tr>\n",
       "    <tr>\n",
       "      <th>degrees_of_freedom</th>\n",
       "      <td>1</td>\n",
       "    </tr>\n",
       "    <tr>\n",
       "      <th>test_name</th>\n",
       "      <td>logrank_test</td>\n",
       "    </tr>\n",
       "  </tbody>\n",
       "</table>\n",
       "</div><table border=\"1\" class=\"dataframe\">\n",
       "  <thead>\n",
       "    <tr style=\"text-align: right;\">\n",
       "      <th></th>\n",
       "      <th>test_statistic</th>\n",
       "      <th>p</th>\n",
       "      <th>-log2(p)</th>\n",
       "    </tr>\n",
       "  </thead>\n",
       "  <tbody>\n",
       "    <tr>\n",
       "      <th>0</th>\n",
       "      <td>0.02</td>\n",
       "      <td>0.89</td>\n",
       "      <td>0.16</td>\n",
       "    </tr>\n",
       "  </tbody>\n",
       "</table>"
      ],
      "text/latex": [
       "\\begin{tabular}{lrrr}\n",
       " & test_statistic & p & -log2(p) \\\\\n",
       "0 & 0.02 & 0.89 & 0.16 \\\\\n",
       "\\end{tabular}\n"
      ],
      "text/plain": [
       "<lifelines.StatisticalResult: logrank_test>\n",
       "               t_0 = -1\n",
       " null_distribution = chi squared\n",
       "degrees_of_freedom = 1\n",
       "         test_name = logrank_test\n",
       "\n",
       "---\n",
       " test_statistic    p  -log2(p)\n",
       "           0.02 0.89      0.16"
      ]
     },
     "execution_count": 26,
     "metadata": {},
     "output_type": "execute_result"
    }
   ],
   "source": [
    "lvdd_group = df['lvdd'] < statistics.median(df['lvdd'])\n",
    "\n",
    "lrt = logrank_test(\n",
    "    durations_A = T[lvdd_group],\n",
    "    durations_B = T[~lvdd_group],\n",
    "    event_observed_A = E[lvdd_group],\n",
    "    event_observed_B = E[~lvdd_group])\n",
    "lrt"
   ]
  },
  {
   "cell_type": "markdown",
   "id": "64f167d8",
   "metadata": {},
   "source": [
    "- Too bad both test results are not significant with p-values of 0.31 and 0.89.\n",
    "    - Note the prob with few observations in dataset.\n",
    "    - The p-values are much smaller for epss than for lvdd. This is consisent with the survival curves."
   ]
  },
  {
   "cell_type": "markdown",
   "id": "e0854418",
   "metadata": {},
   "source": [
    "### 2.5) Cox Proportional Hazards model"
   ]
  },
  {
   "cell_type": "code",
   "execution_count": 27,
   "id": "63a00e54",
   "metadata": {},
   "outputs": [
    {
     "data": {
      "text/html": [
       "<div>\n",
       "<style scoped>\n",
       "    .dataframe tbody tr th:only-of-type {\n",
       "        vertical-align: middle;\n",
       "    }\n",
       "\n",
       "    .dataframe tbody tr th {\n",
       "        vertical-align: top;\n",
       "    }\n",
       "\n",
       "    .dataframe thead th {\n",
       "        text-align: right;\n",
       "    }\n",
       "</style>\n",
       "<table border=\"1\" class=\"dataframe\">\n",
       "  <tbody>\n",
       "    <tr>\n",
       "      <th>model</th>\n",
       "      <td>lifelines.CoxPHFitter</td>\n",
       "    </tr>\n",
       "    <tr>\n",
       "      <th>duration col</th>\n",
       "      <td>'survival'</td>\n",
       "    </tr>\n",
       "    <tr>\n",
       "      <th>event col</th>\n",
       "      <td>'dead'</td>\n",
       "    </tr>\n",
       "    <tr>\n",
       "      <th>baseline estimation</th>\n",
       "      <td>breslow</td>\n",
       "    </tr>\n",
       "    <tr>\n",
       "      <th>number of observations</th>\n",
       "      <td>130</td>\n",
       "    </tr>\n",
       "    <tr>\n",
       "      <th>number of events observed</th>\n",
       "      <td>88</td>\n",
       "    </tr>\n",
       "    <tr>\n",
       "      <th>partial log-likelihood</th>\n",
       "      <td>-311.89</td>\n",
       "    </tr>\n",
       "    <tr>\n",
       "      <th>time fit was run</th>\n",
       "      <td>2023-02-09 19:34:48 UTC</td>\n",
       "    </tr>\n",
       "  </tbody>\n",
       "</table>\n",
       "</div><table border=\"1\" class=\"dataframe\">\n",
       "  <thead>\n",
       "    <tr style=\"text-align: right;\">\n",
       "      <th style=\"min-width: 12px;\"></th>\n",
       "      <th style=\"min-width: 12px;\">coef</th>\n",
       "      <th style=\"min-width: 12px;\">exp(coef)</th>\n",
       "      <th style=\"min-width: 12px;\">se(coef)</th>\n",
       "      <th style=\"min-width: 12px;\">coef lower 95%</th>\n",
       "      <th style=\"min-width: 12px;\">coef upper 95%</th>\n",
       "      <th style=\"min-width: 12px;\">exp(coef) lower 95%</th>\n",
       "      <th style=\"min-width: 12px;\">exp(coef) upper 95%</th>\n",
       "      <th style=\"min-width: 12px;\">cmp to</th>\n",
       "      <th style=\"min-width: 12px;\">z</th>\n",
       "      <th style=\"min-width: 12px;\">p</th>\n",
       "      <th style=\"min-width: 12px;\">-log2(p)</th>\n",
       "    </tr>\n",
       "  </thead>\n",
       "  <tbody>\n",
       "    <tr>\n",
       "      <th>age</th>\n",
       "      <td>-0.01</td>\n",
       "      <td>0.99</td>\n",
       "      <td>0.01</td>\n",
       "      <td>-0.04</td>\n",
       "      <td>0.02</td>\n",
       "      <td>0.96</td>\n",
       "      <td>1.02</td>\n",
       "      <td>0.00</td>\n",
       "      <td>-0.74</td>\n",
       "      <td>0.46</td>\n",
       "      <td>1.13</td>\n",
       "    </tr>\n",
       "    <tr>\n",
       "      <th>epss</th>\n",
       "      <td>0.01</td>\n",
       "      <td>1.01</td>\n",
       "      <td>0.02</td>\n",
       "      <td>-0.03</td>\n",
       "      <td>0.06</td>\n",
       "      <td>0.97</td>\n",
       "      <td>1.06</td>\n",
       "      <td>0.00</td>\n",
       "      <td>0.62</td>\n",
       "      <td>0.54</td>\n",
       "      <td>0.90</td>\n",
       "    </tr>\n",
       "    <tr>\n",
       "      <th>fractionalshortening</th>\n",
       "      <td>-0.62</td>\n",
       "      <td>0.54</td>\n",
       "      <td>1.20</td>\n",
       "      <td>-2.98</td>\n",
       "      <td>1.74</td>\n",
       "      <td>0.05</td>\n",
       "      <td>5.69</td>\n",
       "      <td>0.00</td>\n",
       "      <td>-0.52</td>\n",
       "      <td>0.61</td>\n",
       "      <td>0.72</td>\n",
       "    </tr>\n",
       "    <tr>\n",
       "      <th>lvdd</th>\n",
       "      <td>0.01</td>\n",
       "      <td>1.01</td>\n",
       "      <td>0.16</td>\n",
       "      <td>-0.31</td>\n",
       "      <td>0.33</td>\n",
       "      <td>0.73</td>\n",
       "      <td>1.39</td>\n",
       "      <td>0.00</td>\n",
       "      <td>0.05</td>\n",
       "      <td>0.96</td>\n",
       "      <td>0.06</td>\n",
       "    </tr>\n",
       "    <tr>\n",
       "      <th>pericardialeffusion</th>\n",
       "      <td>0.08</td>\n",
       "      <td>1.08</td>\n",
       "      <td>0.32</td>\n",
       "      <td>-0.55</td>\n",
       "      <td>0.71</td>\n",
       "      <td>0.58</td>\n",
       "      <td>2.03</td>\n",
       "      <td>0.00</td>\n",
       "      <td>0.24</td>\n",
       "      <td>0.81</td>\n",
       "      <td>0.30</td>\n",
       "    </tr>\n",
       "    <tr>\n",
       "      <th>wallmotion_index</th>\n",
       "      <td>-0.20</td>\n",
       "      <td>0.82</td>\n",
       "      <td>0.34</td>\n",
       "      <td>-0.88</td>\n",
       "      <td>0.48</td>\n",
       "      <td>0.42</td>\n",
       "      <td>1.61</td>\n",
       "      <td>0.00</td>\n",
       "      <td>-0.58</td>\n",
       "      <td>0.56</td>\n",
       "      <td>0.83</td>\n",
       "    </tr>\n",
       "  </tbody>\n",
       "</table><br><div>\n",
       "<style scoped>\n",
       "    .dataframe tbody tr th:only-of-type {\n",
       "        vertical-align: middle;\n",
       "    }\n",
       "\n",
       "    .dataframe tbody tr th {\n",
       "        vertical-align: top;\n",
       "    }\n",
       "\n",
       "    .dataframe thead th {\n",
       "        text-align: right;\n",
       "    }\n",
       "</style>\n",
       "<table border=\"1\" class=\"dataframe\">\n",
       "  <tbody>\n",
       "    <tr>\n",
       "      <th>Concordance</th>\n",
       "      <td>0.54</td>\n",
       "    </tr>\n",
       "    <tr>\n",
       "      <th>Partial AIC</th>\n",
       "      <td>635.78</td>\n",
       "    </tr>\n",
       "    <tr>\n",
       "      <th>log-likelihood ratio test</th>\n",
       "      <td>1.83 on 6 df</td>\n",
       "    </tr>\n",
       "    <tr>\n",
       "      <th>-log2(p) of ll-ratio test</th>\n",
       "      <td>0.10</td>\n",
       "    </tr>\n",
       "  </tbody>\n",
       "</table>\n",
       "</div>"
      ],
      "text/latex": [
       "\\begin{tabular}{lrrrrrrrrrrr}\n",
       " & coef & exp(coef) & se(coef) & coef lower 95% & coef upper 95% & exp(coef) lower 95% & exp(coef) upper 95% & cmp to & z & p & -log2(p) \\\\\n",
       "covariate &  &  &  &  &  &  &  &  &  &  &  \\\\\n",
       "age & -0.01 & 0.99 & 0.01 & -0.04 & 0.02 & 0.96 & 1.02 & 0.00 & -0.74 & 0.46 & 1.13 \\\\\n",
       "epss & 0.01 & 1.01 & 0.02 & -0.03 & 0.06 & 0.97 & 1.06 & 0.00 & 0.62 & 0.54 & 0.90 \\\\\n",
       "fractionalshortening & -0.62 & 0.54 & 1.20 & -2.98 & 1.74 & 0.05 & 5.69 & 0.00 & -0.52 & 0.61 & 0.72 \\\\\n",
       "lvdd & 0.01 & 1.01 & 0.16 & -0.31 & 0.33 & 0.73 & 1.39 & 0.00 & 0.05 & 0.96 & 0.06 \\\\\n",
       "pericardialeffusion & 0.08 & 1.08 & 0.32 & -0.55 & 0.71 & 0.58 & 2.03 & 0.00 & 0.24 & 0.81 & 0.30 \\\\\n",
       "wallmotion_index & -0.20 & 0.82 & 0.34 & -0.88 & 0.48 & 0.42 & 1.61 & 0.00 & -0.58 & 0.56 & 0.83 \\\\\n",
       "\\end{tabular}\n"
      ],
      "text/plain": [
       "<lifelines.CoxPHFitter: fitted with 130 total observations, 42 right-censored observations>\n",
       "             duration col = 'survival'\n",
       "                event col = 'dead'\n",
       "      baseline estimation = breslow\n",
       "   number of observations = 130\n",
       "number of events observed = 88\n",
       "   partial log-likelihood = -311.89\n",
       "         time fit was run = 2023-02-09 19:34:48 UTC\n",
       "\n",
       "---\n",
       "                       coef  exp(coef)   se(coef)   coef lower 95%   coef upper 95%  exp(coef) lower 95%  exp(coef) upper 95%\n",
       "covariate                                                                                                                    \n",
       "age                   -0.01       0.99       0.01            -0.04             0.02                 0.96                 1.02\n",
       "epss                   0.01       1.01       0.02            -0.03             0.06                 0.97                 1.06\n",
       "fractionalshortening  -0.62       0.54       1.20            -2.98             1.74                 0.05                 5.69\n",
       "lvdd                   0.01       1.01       0.16            -0.31             0.33                 0.73                 1.39\n",
       "pericardialeffusion    0.08       1.08       0.32            -0.55             0.71                 0.58                 2.03\n",
       "wallmotion_index      -0.20       0.82       0.34            -0.88             0.48                 0.42                 1.61\n",
       "\n",
       "                       cmp to     z    p   -log2(p)\n",
       "covariate                                          \n",
       "age                      0.00 -0.74 0.46       1.13\n",
       "epss                     0.00  0.62 0.54       0.90\n",
       "fractionalshortening     0.00 -0.52 0.61       0.72\n",
       "lvdd                     0.00  0.05 0.96       0.06\n",
       "pericardialeffusion      0.00  0.24 0.81       0.30\n",
       "wallmotion_index         0.00 -0.58 0.56       0.83\n",
       "---\n",
       "Concordance = 0.54\n",
       "Partial AIC = 635.78\n",
       "log-likelihood ratio test = 1.83 on 6 df\n",
       "-log2(p) of ll-ratio test = 0.10"
      ]
     },
     "metadata": {},
     "output_type": "display_data"
    }
   ],
   "source": [
    "coxph = CoxPHFitter()\n",
    "coxph.fit(df=df,\n",
    "         duration_col = \"survival\",\n",
    "         event_col = \"dead\",\n",
    "         formula = \"pericardialeffusion + age + fractionalshortening + epss + lvdd + wallmotion_index\")\n",
    "coxph.print_summary()"
   ]
  },
  {
   "cell_type": "markdown",
   "id": "9016eecb",
   "metadata": {},
   "source": [
    "- We have looked at the effect of epss and lvdd in isolation. But survival time is affected by other features such as age, whether there is fluid around heart. So we need to put all the features in a regression. In this case the Cox proportional hazards model.\n",
    "    - After controling for the effects of other features, epss and lvdd have very small effects (coefficients) and not significant."
   ]
  },
  {
   "cell_type": "markdown",
   "id": "6bb58544",
   "metadata": {},
   "source": [
    "### 2.6) Testing proportional hazards assumptions\n",
    "- Do we care about proportional hazards assumptions? This articles says \"maybe, not much\" https://lifelines.readthedocs.io/en/latest/jupyter_notebooks/Proportional%20hazard%20assumption.html\n",
    "- However, we want to check here.\n",
    "    - Looking at survival curves for epss and lvdd groups, the assumptions look good - the curves have similar shape (they are parallel) and don't really cross.\n",
    "    - The cell below test formally."
   ]
  },
  {
   "cell_type": "code",
   "execution_count": 28,
   "id": "8323fa93",
   "metadata": {},
   "outputs": [
    {
     "name": "stdout",
     "output_type": "stream",
     "text": [
      "Proportional hazard assumption looks okay.\n"
     ]
    },
    {
     "data": {
      "text/plain": [
       "[]"
      ]
     },
     "execution_count": 28,
     "metadata": {},
     "output_type": "execute_result"
    }
   ],
   "source": [
    "coxph.check_assumptions(df, p_value_threshold=0.05)"
   ]
  },
  {
   "cell_type": "markdown",
   "id": "129b7f0c",
   "metadata": {},
   "source": [
    "## 3) Summary"
   ]
  },
  {
   "cell_type": "markdown",
   "id": "231d8b33",
   "metadata": {},
   "source": [
    "- Epss and lvdd do not seem to have effect on the survival time.\n",
    "    - The small sample might cause the weak results.\n",
    "- If we care about survival only to a certain lenght, for example 2 or 4 years, we can investigate if epss and lvdd affect the outcome?\n",
    "    - We will need to recode the \"survival\" and \"censored\" variables."
   ]
  },
  {
   "cell_type": "code",
   "execution_count": null,
   "id": "f227a24e",
   "metadata": {},
   "outputs": [],
   "source": []
  },
  {
   "cell_type": "code",
   "execution_count": null,
   "id": "78d0a92a",
   "metadata": {},
   "outputs": [],
   "source": []
  },
  {
   "cell_type": "markdown",
   "id": "2ac0f5ad",
   "metadata": {},
   "source": [
    "## Recode to censor at 4 years and do Kaplan Meier curves, log-rank tests, and CoxPH.\n",
    "- We could do 2 years. But if thre are too many cencored obsevations, the analysis is not reliable."
   ]
  },
  {
   "cell_type": "code",
   "execution_count": 26,
   "id": "1cd9891b",
   "metadata": {},
   "outputs": [
    {
     "data": {
      "text/html": [
       "<div>\n",
       "<style scoped>\n",
       "    .dataframe tbody tr th:only-of-type {\n",
       "        vertical-align: middle;\n",
       "    }\n",
       "\n",
       "    .dataframe tbody tr th {\n",
       "        vertical-align: top;\n",
       "    }\n",
       "\n",
       "    .dataframe thead th {\n",
       "        text-align: right;\n",
       "    }\n",
       "</style>\n",
       "<table border=\"1\" class=\"dataframe\">\n",
       "  <thead>\n",
       "    <tr style=\"text-align: right;\">\n",
       "      <th></th>\n",
       "      <th>survival</th>\n",
       "      <th>alive</th>\n",
       "      <th>pericardialeffusion</th>\n",
       "      <th>age</th>\n",
       "      <th>fractionalshortening</th>\n",
       "      <th>epss</th>\n",
       "      <th>lvdd</th>\n",
       "      <th>wallmotion_index</th>\n",
       "      <th>dead</th>\n",
       "    </tr>\n",
       "  </thead>\n",
       "  <tbody>\n",
       "    <tr>\n",
       "      <th>0</th>\n",
       "      <td>11.0</td>\n",
       "      <td>0</td>\n",
       "      <td>0</td>\n",
       "      <td>71.0</td>\n",
       "      <td>0.26</td>\n",
       "      <td>9.0</td>\n",
       "      <td>4.6</td>\n",
       "      <td>1.0</td>\n",
       "      <td>1.0</td>\n",
       "    </tr>\n",
       "    <tr>\n",
       "      <th>1</th>\n",
       "      <td>19.0</td>\n",
       "      <td>0</td>\n",
       "      <td>0</td>\n",
       "      <td>72.0</td>\n",
       "      <td>0.38</td>\n",
       "      <td>6.0</td>\n",
       "      <td>4.1</td>\n",
       "      <td>1.7</td>\n",
       "      <td>1.0</td>\n",
       "    </tr>\n",
       "  </tbody>\n",
       "</table>\n",
       "</div>"
      ],
      "text/plain": [
       "   survival  alive  pericardialeffusion   age  fractionalshortening  epss  \\\n",
       "0      11.0      0                    0  71.0                  0.26   9.0   \n",
       "1      19.0      0                    0  72.0                  0.38   6.0   \n",
       "\n",
       "   lvdd  wallmotion_index  dead  \n",
       "0   4.6               1.0   1.0  \n",
       "1   4.1               1.7   1.0  "
      ]
     },
     "execution_count": 26,
     "metadata": {},
     "output_type": "execute_result"
    }
   ],
   "source": [
    "df48 = df\n",
    "df48.head(2)"
   ]
  },
  {
   "cell_type": "code",
   "execution_count": 27,
   "id": "1c4480da",
   "metadata": {},
   "outputs": [],
   "source": [
    "df48[\"survival_48\"] = df48[\"survival\"]\n",
    "df48.loc[df48[\"survival\"] > 48, \"survival_48\"] = 48\n",
    "df48[\"dead_48\"] = df48[\"dead\"]\n",
    "df48.loc[df48[\"survival\"] > 48, \"dead_48\"] = 0"
   ]
  },
  {
   "cell_type": "code",
   "execution_count": 28,
   "id": "ca13a5e0",
   "metadata": {},
   "outputs": [
    {
     "data": {
      "text/html": [
       "<div>\n",
       "<style scoped>\n",
       "    .dataframe tbody tr th:only-of-type {\n",
       "        vertical-align: middle;\n",
       "    }\n",
       "\n",
       "    .dataframe tbody tr th {\n",
       "        vertical-align: top;\n",
       "    }\n",
       "\n",
       "    .dataframe thead th {\n",
       "        text-align: right;\n",
       "    }\n",
       "</style>\n",
       "<table border=\"1\" class=\"dataframe\">\n",
       "  <thead>\n",
       "    <tr style=\"text-align: right;\">\n",
       "      <th></th>\n",
       "      <th>survival</th>\n",
       "      <th>alive</th>\n",
       "      <th>pericardialeffusion</th>\n",
       "      <th>age</th>\n",
       "      <th>fractionalshortening</th>\n",
       "      <th>epss</th>\n",
       "      <th>lvdd</th>\n",
       "      <th>wallmotion_index</th>\n",
       "      <th>dead</th>\n",
       "      <th>survival_48</th>\n",
       "      <th>dead_48</th>\n",
       "    </tr>\n",
       "  </thead>\n",
       "  <tbody>\n",
       "    <tr>\n",
       "      <th>0</th>\n",
       "      <td>11.0</td>\n",
       "      <td>0</td>\n",
       "      <td>0</td>\n",
       "      <td>71.0</td>\n",
       "      <td>0.260</td>\n",
       "      <td>9.000</td>\n",
       "      <td>4.600</td>\n",
       "      <td>1.00</td>\n",
       "      <td>1.0</td>\n",
       "      <td>11.0</td>\n",
       "      <td>1.0</td>\n",
       "    </tr>\n",
       "    <tr>\n",
       "      <th>1</th>\n",
       "      <td>19.0</td>\n",
       "      <td>0</td>\n",
       "      <td>0</td>\n",
       "      <td>72.0</td>\n",
       "      <td>0.380</td>\n",
       "      <td>6.000</td>\n",
       "      <td>4.100</td>\n",
       "      <td>1.70</td>\n",
       "      <td>1.0</td>\n",
       "      <td>19.0</td>\n",
       "      <td>1.0</td>\n",
       "    </tr>\n",
       "    <tr>\n",
       "      <th>2</th>\n",
       "      <td>16.0</td>\n",
       "      <td>0</td>\n",
       "      <td>0</td>\n",
       "      <td>55.0</td>\n",
       "      <td>0.260</td>\n",
       "      <td>4.000</td>\n",
       "      <td>3.420</td>\n",
       "      <td>1.00</td>\n",
       "      <td>1.0</td>\n",
       "      <td>16.0</td>\n",
       "      <td>1.0</td>\n",
       "    </tr>\n",
       "    <tr>\n",
       "      <th>3</th>\n",
       "      <td>57.0</td>\n",
       "      <td>0</td>\n",
       "      <td>0</td>\n",
       "      <td>60.0</td>\n",
       "      <td>0.253</td>\n",
       "      <td>12.062</td>\n",
       "      <td>4.603</td>\n",
       "      <td>1.45</td>\n",
       "      <td>1.0</td>\n",
       "      <td>48.0</td>\n",
       "      <td>0.0</td>\n",
       "    </tr>\n",
       "    <tr>\n",
       "      <th>4</th>\n",
       "      <td>19.0</td>\n",
       "      <td>1</td>\n",
       "      <td>0</td>\n",
       "      <td>57.0</td>\n",
       "      <td>0.160</td>\n",
       "      <td>22.000</td>\n",
       "      <td>5.750</td>\n",
       "      <td>2.25</td>\n",
       "      <td>0.0</td>\n",
       "      <td>19.0</td>\n",
       "      <td>0.0</td>\n",
       "    </tr>\n",
       "  </tbody>\n",
       "</table>\n",
       "</div>"
      ],
      "text/plain": [
       "   survival  alive  pericardialeffusion   age  fractionalshortening    epss  \\\n",
       "0      11.0      0                    0  71.0                 0.260   9.000   \n",
       "1      19.0      0                    0  72.0                 0.380   6.000   \n",
       "2      16.0      0                    0  55.0                 0.260   4.000   \n",
       "3      57.0      0                    0  60.0                 0.253  12.062   \n",
       "4      19.0      1                    0  57.0                 0.160  22.000   \n",
       "\n",
       "    lvdd  wallmotion_index  dead  survival_48  dead_48  \n",
       "0  4.600              1.00   1.0         11.0      1.0  \n",
       "1  4.100              1.70   1.0         19.0      1.0  \n",
       "2  3.420              1.00   1.0         16.0      1.0  \n",
       "3  4.603              1.45   1.0         48.0      0.0  \n",
       "4  5.750              2.25   0.0         19.0      0.0  "
      ]
     },
     "execution_count": 28,
     "metadata": {},
     "output_type": "execute_result"
    }
   ],
   "source": [
    "df48.head()"
   ]
  },
  {
   "cell_type": "code",
   "execution_count": 33,
   "id": "dc36915d",
   "metadata": {},
   "outputs": [
    {
     "data": {
      "text/html": [
       "<div>\n",
       "<style scoped>\n",
       "    .dataframe tbody tr th:only-of-type {\n",
       "        vertical-align: middle;\n",
       "    }\n",
       "\n",
       "    .dataframe tbody tr th {\n",
       "        vertical-align: top;\n",
       "    }\n",
       "\n",
       "    .dataframe thead th {\n",
       "        text-align: right;\n",
       "    }\n",
       "</style>\n",
       "<table border=\"1\" class=\"dataframe\">\n",
       "  <thead>\n",
       "    <tr style=\"text-align: right;\">\n",
       "      <th></th>\n",
       "      <th>survival</th>\n",
       "      <th>alive</th>\n",
       "      <th>pericardialeffusion</th>\n",
       "      <th>age</th>\n",
       "      <th>fractionalshortening</th>\n",
       "      <th>epss</th>\n",
       "      <th>lvdd</th>\n",
       "      <th>wallmotion_index</th>\n",
       "      <th>dead</th>\n",
       "      <th>survival_48</th>\n",
       "      <th>dead_48</th>\n",
       "    </tr>\n",
       "  </thead>\n",
       "  <tbody>\n",
       "    <tr>\n",
       "      <th>3</th>\n",
       "      <td>57.0</td>\n",
       "      <td>0</td>\n",
       "      <td>0</td>\n",
       "      <td>60.0</td>\n",
       "      <td>0.253</td>\n",
       "      <td>12.062</td>\n",
       "      <td>4.603</td>\n",
       "      <td>1.45</td>\n",
       "      <td>1.0</td>\n",
       "      <td>48.0</td>\n",
       "      <td>0.0</td>\n",
       "    </tr>\n",
       "    <tr>\n",
       "      <th>7</th>\n",
       "      <td>50.0</td>\n",
       "      <td>0</td>\n",
       "      <td>0</td>\n",
       "      <td>60.0</td>\n",
       "      <td>0.330</td>\n",
       "      <td>8.000</td>\n",
       "      <td>5.250</td>\n",
       "      <td>1.00</td>\n",
       "      <td>1.0</td>\n",
       "      <td>48.0</td>\n",
       "      <td>0.0</td>\n",
       "    </tr>\n",
       "    <tr>\n",
       "      <th>11</th>\n",
       "      <td>52.0</td>\n",
       "      <td>0</td>\n",
       "      <td>1</td>\n",
       "      <td>62.0</td>\n",
       "      <td>0.450</td>\n",
       "      <td>9.000</td>\n",
       "      <td>3.600</td>\n",
       "      <td>1.14</td>\n",
       "      <td>1.0</td>\n",
       "      <td>48.0</td>\n",
       "      <td>0.0</td>\n",
       "    </tr>\n",
       "    <tr>\n",
       "      <th>12</th>\n",
       "      <td>52.0</td>\n",
       "      <td>0</td>\n",
       "      <td>0</td>\n",
       "      <td>73.0</td>\n",
       "      <td>0.330</td>\n",
       "      <td>6.000</td>\n",
       "      <td>4.000</td>\n",
       "      <td>1.00</td>\n",
       "      <td>1.0</td>\n",
       "      <td>48.0</td>\n",
       "      <td>0.0</td>\n",
       "    </tr>\n",
       "    <tr>\n",
       "      <th>58</th>\n",
       "      <td>53.0</td>\n",
       "      <td>0</td>\n",
       "      <td>0</td>\n",
       "      <td>70.0</td>\n",
       "      <td>0.100</td>\n",
       "      <td>9.800</td>\n",
       "      <td>5.300</td>\n",
       "      <td>2.30</td>\n",
       "      <td>1.0</td>\n",
       "      <td>48.0</td>\n",
       "      <td>0.0</td>\n",
       "    </tr>\n",
       "    <tr>\n",
       "      <th>65</th>\n",
       "      <td>49.0</td>\n",
       "      <td>0</td>\n",
       "      <td>0</td>\n",
       "      <td>51.0</td>\n",
       "      <td>0.160</td>\n",
       "      <td>13.200</td>\n",
       "      <td>5.260</td>\n",
       "      <td>1.00</td>\n",
       "      <td>1.0</td>\n",
       "      <td>48.0</td>\n",
       "      <td>0.0</td>\n",
       "    </tr>\n",
       "    <tr>\n",
       "      <th>67</th>\n",
       "      <td>49.0</td>\n",
       "      <td>0</td>\n",
       "      <td>1</td>\n",
       "      <td>70.0</td>\n",
       "      <td>0.250</td>\n",
       "      <td>9.700</td>\n",
       "      <td>5.570</td>\n",
       "      <td>1.10</td>\n",
       "      <td>1.0</td>\n",
       "      <td>48.0</td>\n",
       "      <td>0.0</td>\n",
       "    </tr>\n",
       "    <tr>\n",
       "      <th>88</th>\n",
       "      <td>55.0</td>\n",
       "      <td>0</td>\n",
       "      <td>0</td>\n",
       "      <td>55.0</td>\n",
       "      <td>0.280</td>\n",
       "      <td>5.500</td>\n",
       "      <td>4.480</td>\n",
       "      <td>1.83</td>\n",
       "      <td>1.0</td>\n",
       "      <td>48.0</td>\n",
       "      <td>0.0</td>\n",
       "    </tr>\n",
       "    <tr>\n",
       "      <th>92</th>\n",
       "      <td>53.0</td>\n",
       "      <td>0</td>\n",
       "      <td>0</td>\n",
       "      <td>59.0</td>\n",
       "      <td>0.344</td>\n",
       "      <td>9.100</td>\n",
       "      <td>4.040</td>\n",
       "      <td>1.00</td>\n",
       "      <td>1.0</td>\n",
       "      <td>48.0</td>\n",
       "      <td>0.0</td>\n",
       "    </tr>\n",
       "  </tbody>\n",
       "</table>\n",
       "</div>"
      ],
      "text/plain": [
       "    survival  alive  pericardialeffusion   age  fractionalshortening    epss  \\\n",
       "3       57.0      0                    0  60.0                 0.253  12.062   \n",
       "7       50.0      0                    0  60.0                 0.330   8.000   \n",
       "11      52.0      0                    1  62.0                 0.450   9.000   \n",
       "12      52.0      0                    0  73.0                 0.330   6.000   \n",
       "58      53.0      0                    0  70.0                 0.100   9.800   \n",
       "65      49.0      0                    0  51.0                 0.160  13.200   \n",
       "67      49.0      0                    1  70.0                 0.250   9.700   \n",
       "88      55.0      0                    0  55.0                 0.280   5.500   \n",
       "92      53.0      0                    0  59.0                 0.344   9.100   \n",
       "\n",
       "     lvdd  wallmotion_index  dead  survival_48  dead_48  \n",
       "3   4.603              1.45   1.0         48.0      0.0  \n",
       "7   5.250              1.00   1.0         48.0      0.0  \n",
       "11  3.600              1.14   1.0         48.0      0.0  \n",
       "12  4.000              1.00   1.0         48.0      0.0  \n",
       "58  5.300              2.30   1.0         48.0      0.0  \n",
       "65  5.260              1.00   1.0         48.0      0.0  \n",
       "67  5.570              1.10   1.0         48.0      0.0  \n",
       "88  4.480              1.83   1.0         48.0      0.0  \n",
       "92  4.040              1.00   1.0         48.0      0.0  "
      ]
     },
     "execution_count": 33,
     "metadata": {},
     "output_type": "execute_result"
    }
   ],
   "source": [
    "df48[df48[\"survival\"] > 48]"
   ]
  },
  {
   "cell_type": "markdown",
   "id": "09ceaab6",
   "metadata": {},
   "source": [
    "### Survival curve"
   ]
  },
  {
   "cell_type": "code",
   "execution_count": 34,
   "id": "b1aa6617",
   "metadata": {},
   "outputs": [
    {
     "data": {
      "text/plain": [
       "<lifelines.KaplanMeierFitter:\"KM_estimate\", fitted with 130 total observations, 51 right-censored observations>"
      ]
     },
     "execution_count": 34,
     "metadata": {},
     "output_type": "execute_result"
    }
   ],
   "source": [
    "kmf = KaplanMeierFitter()\n",
    "kmf.fit(durations=df48[\"survival_48\"], event_observed=df48[\"dead_48\"])"
   ]
  },
  {
   "cell_type": "code",
   "execution_count": 35,
   "id": "8acbdda1",
   "metadata": {},
   "outputs": [
    {
     "data": {
      "text/plain": [
       "<AxesSubplot:xlabel='timeline'>"
      ]
     },
     "execution_count": 35,
     "metadata": {},
     "output_type": "execute_result"
    },
    {
     "data": {
      "image/png": "[encoded data removed]",
      "text/plain": [
       "<Figure size 640x480 with 1 Axes>"
      ]
     },
     "metadata": {},
     "output_type": "display_data"
    }
   ],
   "source": [
    "kmf.survival_function_.plot()"
   ]
  },
  {
   "cell_type": "code",
   "execution_count": null,
   "id": "27fe90d8",
   "metadata": {},
   "outputs": [],
   "source": []
  },
  {
   "cell_type": "markdown",
   "id": "c4af5dcb",
   "metadata": {},
   "source": [
    "### Survival curve by groups"
   ]
  },
  {
   "cell_type": "code",
   "execution_count": 36,
   "id": "b1188902",
   "metadata": {},
   "outputs": [],
   "source": [
    "T48 = df['survival_48']\n",
    "E48 = df['dead_48']"
   ]
  },
  {
   "cell_type": "code",
   "execution_count": 38,
   "id": "8a660003",
   "metadata": {},
   "outputs": [],
   "source": [
    "# Write function to plot for groups\n",
    "def kmf_by_gr_48(var):\n",
    "    group = df48[var] < statistics.median(df48[var]) # group is series of boolean\n",
    "    ax = plt.subplot(111)\n",
    "    kmf.fit(T48[group], event_observed = E48[group], label = (var + ' below median'))\n",
    "    print(kmf)\n",
    "    kmf.survival_function_.plot(ax = ax)\n",
    "    kmf.fit(T48[~group], event_observed = E48[~group], label = (var + ' above median'))\n",
    "    print(kmf)\n",
    "    kmf.survival_function_.plot(ax = ax)\n",
    "    plt.title((\"Kaplan Meier estimates by \" + var + \" group\"))\n",
    "    plt.xlabel(\"Month after heart attack\")\n",
    "    plt.ylabel(\"Survival\")\n",
    "    plt.show()"
   ]
  },
  {
   "cell_type": "code",
   "execution_count": 39,
   "id": "65e28ca0",
   "metadata": {
    "scrolled": false
   },
   "outputs": [
    {
     "name": "stdout",
     "output_type": "stream",
     "text": [
      "<lifelines.KaplanMeierFitter:\"age below median\", fitted with 65 total observations, 20 right-censored observations>\n",
      "<lifelines.KaplanMeierFitter:\"age above median\", fitted with 65 total observations, 31 right-censored observations>\n"
     ]
    },
    {
     "data": {
      "image/png": "[encoded data removed]",
      "text/plain": [
       "<Figure size 640x480 with 1 Axes>"
      ]
     },
     "metadata": {},
     "output_type": "display_data"
    },
    {
     "name": "stdout",
     "output_type": "stream",
     "text": [
      "<lifelines.KaplanMeierFitter:\"fractionalshortening below median\", fitted with 62 total observations, 27 right-censored observations>\n",
      "<lifelines.KaplanMeierFitter:\"fractionalshortening above median\", fitted with 68 total observations, 24 right-censored observations>\n"
     ]
    },
    {
     "data": {
      "image/png": "[encoded data removed]",
      "text/plain": [
       "<Figure size 640x480 with 1 Axes>"
      ]
     },
     "metadata": {},
     "output_type": "display_data"
    },
    {
     "name": "stdout",
     "output_type": "stream",
     "text": [
      "<lifelines.KaplanMeierFitter:\"epss below median\", fitted with 63 total observations, 18 right-censored observations>\n",
      "<lifelines.KaplanMeierFitter:\"epss above median\", fitted with 67 total observations, 33 right-censored observations>\n"
     ]
    },
    {
     "data": {
      "image/png": "[encoded data removed]",
      "text/plain": [
       "<Figure size 640x480 with 1 Axes>"
      ]
     },
     "metadata": {},
     "output_type": "display_data"
    },
    {
     "name": "stdout",
     "output_type": "stream",
     "text": [
      "<lifelines.KaplanMeierFitter:\"lvdd below median\", fitted with 64 total observations, 16 right-censored observations>\n",
      "<lifelines.KaplanMeierFitter:\"lvdd above median\", fitted with 66 total observations, 35 right-censored observations>\n"
     ]
    },
    {
     "data": {
      "image/png": "[encoded data removed]",
      "text/plain": [
       "<Figure size 640x480 with 1 Axes>"
      ]
     },
     "metadata": {},
     "output_type": "display_data"
    },
    {
     "name": "stdout",
     "output_type": "stream",
     "text": [
      "<lifelines.KaplanMeierFitter:\"wallmotion_index below median\", fitted with 65 total observations, 17 right-censored observations>\n",
      "<lifelines.KaplanMeierFitter:\"wallmotion_index above median\", fitted with 65 total observations, 34 right-censored observations>\n"
     ]
    },
    {
     "data": {
      "image/png": "[encoded data removed]",
      "text/plain": [
       "<Figure size 640x480 with 1 Axes>"
      ]
     },
     "metadata": {},
     "output_type": "display_data"
    }
   ],
   "source": [
    "for var in [\"age\", \"fractionalshortening\", \"epss\", \"lvdd\", \"wallmotion_index\"]:\n",
    "    kmf_by_gr_48(var)"
   ]
  },
  {
   "cell_type": "markdown",
   "id": "ad6ed356",
   "metadata": {},
   "source": [
    "### Logrank test"
   ]
  },
  {
   "cell_type": "code",
   "execution_count": 40,
   "id": "d40496f3",
   "metadata": {},
   "outputs": [
    {
     "data": {
      "text/html": [
       "<div>\n",
       "<style scoped>\n",
       "    .dataframe tbody tr th:only-of-type {\n",
       "        vertical-align: middle;\n",
       "    }\n",
       "\n",
       "    .dataframe tbody tr th {\n",
       "        vertical-align: top;\n",
       "    }\n",
       "\n",
       "    .dataframe thead th {\n",
       "        text-align: right;\n",
       "    }\n",
       "</style>\n",
       "<table border=\"1\" class=\"dataframe\">\n",
       "  <tbody>\n",
       "    <tr>\n",
       "      <th>t_0</th>\n",
       "      <td>-1</td>\n",
       "    </tr>\n",
       "    <tr>\n",
       "      <th>null_distribution</th>\n",
       "      <td>chi squared</td>\n",
       "    </tr>\n",
       "    <tr>\n",
       "      <th>degrees_of_freedom</th>\n",
       "      <td>1</td>\n",
       "    </tr>\n",
       "    <tr>\n",
       "      <th>test_name</th>\n",
       "      <td>logrank_test</td>\n",
       "    </tr>\n",
       "  </tbody>\n",
       "</table>\n",
       "</div><table border=\"1\" class=\"dataframe\">\n",
       "  <thead>\n",
       "    <tr style=\"text-align: right;\">\n",
       "      <th></th>\n",
       "      <th>test_statistic</th>\n",
       "      <th>p</th>\n",
       "      <th>-log2(p)</th>\n",
       "    </tr>\n",
       "  </thead>\n",
       "  <tbody>\n",
       "    <tr>\n",
       "      <th>0</th>\n",
       "      <td>1.61</td>\n",
       "      <td>0.20</td>\n",
       "      <td>2.29</td>\n",
       "    </tr>\n",
       "  </tbody>\n",
       "</table>"
      ],
      "text/latex": [
       "\\begin{tabular}{lrrr}\n",
       " & test_statistic & p & -log2(p) \\\\\n",
       "0 & 1.61 & 0.20 & 2.29 \\\\\n",
       "\\end{tabular}\n"
      ],
      "text/plain": [
       "<lifelines.StatisticalResult: logrank_test>\n",
       "               t_0 = -1\n",
       " null_distribution = chi squared\n",
       "degrees_of_freedom = 1\n",
       "         test_name = logrank_test\n",
       "\n",
       "---\n",
       " test_statistic    p  -log2(p)\n",
       "           1.61 0.20      2.29"
      ]
     },
     "execution_count": 40,
     "metadata": {},
     "output_type": "execute_result"
    }
   ],
   "source": [
    "epss_group = df48['epss'] < statistics.median(df48['epss'])\n",
    "\n",
    "lrt = logrank_test(\n",
    "    durations_A = T48[epss_group],\n",
    "    durations_B = T48[~epss_group],\n",
    "    event_observed_A = E48[epss_group],\n",
    "    event_observed_B = E48[~epss_group])\n",
    "lrt"
   ]
  },
  {
   "cell_type": "code",
   "execution_count": 41,
   "id": "c98814b8",
   "metadata": {},
   "outputs": [
    {
     "data": {
      "text/html": [
       "<div>\n",
       "<style scoped>\n",
       "    .dataframe tbody tr th:only-of-type {\n",
       "        vertical-align: middle;\n",
       "    }\n",
       "\n",
       "    .dataframe tbody tr th {\n",
       "        vertical-align: top;\n",
       "    }\n",
       "\n",
       "    .dataframe thead th {\n",
       "        text-align: right;\n",
       "    }\n",
       "</style>\n",
       "<table border=\"1\" class=\"dataframe\">\n",
       "  <tbody>\n",
       "    <tr>\n",
       "      <th>t_0</th>\n",
       "      <td>-1</td>\n",
       "    </tr>\n",
       "    <tr>\n",
       "      <th>null_distribution</th>\n",
       "      <td>chi squared</td>\n",
       "    </tr>\n",
       "    <tr>\n",
       "      <th>degrees_of_freedom</th>\n",
       "      <td>1</td>\n",
       "    </tr>\n",
       "    <tr>\n",
       "      <th>test_name</th>\n",
       "      <td>logrank_test</td>\n",
       "    </tr>\n",
       "  </tbody>\n",
       "</table>\n",
       "</div><table border=\"1\" class=\"dataframe\">\n",
       "  <thead>\n",
       "    <tr style=\"text-align: right;\">\n",
       "      <th></th>\n",
       "      <th>test_statistic</th>\n",
       "      <th>p</th>\n",
       "      <th>-log2(p)</th>\n",
       "    </tr>\n",
       "  </thead>\n",
       "  <tbody>\n",
       "    <tr>\n",
       "      <th>0</th>\n",
       "      <td>0.11</td>\n",
       "      <td>0.74</td>\n",
       "      <td>0.43</td>\n",
       "    </tr>\n",
       "  </tbody>\n",
       "</table>"
      ],
      "text/latex": [
       "\\begin{tabular}{lrrr}\n",
       " & test_statistic & p & -log2(p) \\\\\n",
       "0 & 0.11 & 0.74 & 0.43 \\\\\n",
       "\\end{tabular}\n"
      ],
      "text/plain": [
       "<lifelines.StatisticalResult: logrank_test>\n",
       "               t_0 = -1\n",
       " null_distribution = chi squared\n",
       "degrees_of_freedom = 1\n",
       "         test_name = logrank_test\n",
       "\n",
       "---\n",
       " test_statistic    p  -log2(p)\n",
       "           0.11 0.74      0.43"
      ]
     },
     "execution_count": 41,
     "metadata": {},
     "output_type": "execute_result"
    }
   ],
   "source": [
    "lvdd_group = df48['lvdd'] < statistics.median(df48['lvdd'])\n",
    "\n",
    "lrt = logrank_test(\n",
    "    durations_A = T48[lvdd_group],\n",
    "    durations_B = T48[~lvdd_group],\n",
    "    event_observed_A = E48[lvdd_group],\n",
    "    event_observed_B = E48[~lvdd_group])\n",
    "lrt"
   ]
  },
  {
   "cell_type": "code",
   "execution_count": null,
   "id": "14eb0d60",
   "metadata": {},
   "outputs": [],
   "source": []
  },
  {
   "cell_type": "markdown",
   "id": "4d105a53",
   "metadata": {},
   "source": [
    "### CoxPH model"
   ]
  },
  {
   "cell_type": "code",
   "execution_count": 42,
   "id": "4cc92a8a",
   "metadata": {},
   "outputs": [
    {
     "data": {
      "text/html": [
       "<div>\n",
       "<style scoped>\n",
       "    .dataframe tbody tr th:only-of-type {\n",
       "        vertical-align: middle;\n",
       "    }\n",
       "\n",
       "    .dataframe tbody tr th {\n",
       "        vertical-align: top;\n",
       "    }\n",
       "\n",
       "    .dataframe thead th {\n",
       "        text-align: right;\n",
       "    }\n",
       "</style>\n",
       "<table border=\"1\" class=\"dataframe\">\n",
       "  <thead>\n",
       "    <tr style=\"text-align: right;\">\n",
       "      <th></th>\n",
       "      <th>survival</th>\n",
       "      <th>alive</th>\n",
       "      <th>pericardialeffusion</th>\n",
       "      <th>age</th>\n",
       "      <th>fractionalshortening</th>\n",
       "      <th>epss</th>\n",
       "      <th>lvdd</th>\n",
       "      <th>wallmotion_index</th>\n",
       "      <th>dead</th>\n",
       "      <th>survival_48</th>\n",
       "      <th>dead_48</th>\n",
       "    </tr>\n",
       "  </thead>\n",
       "  <tbody>\n",
       "    <tr>\n",
       "      <th>0</th>\n",
       "      <td>11.0</td>\n",
       "      <td>0</td>\n",
       "      <td>0</td>\n",
       "      <td>71.0</td>\n",
       "      <td>0.26</td>\n",
       "      <td>9.0</td>\n",
       "      <td>4.6</td>\n",
       "      <td>1.0</td>\n",
       "      <td>1.0</td>\n",
       "      <td>11.0</td>\n",
       "      <td>1.0</td>\n",
       "    </tr>\n",
       "    <tr>\n",
       "      <th>1</th>\n",
       "      <td>19.0</td>\n",
       "      <td>0</td>\n",
       "      <td>0</td>\n",
       "      <td>72.0</td>\n",
       "      <td>0.38</td>\n",
       "      <td>6.0</td>\n",
       "      <td>4.1</td>\n",
       "      <td>1.7</td>\n",
       "      <td>1.0</td>\n",
       "      <td>19.0</td>\n",
       "      <td>1.0</td>\n",
       "    </tr>\n",
       "  </tbody>\n",
       "</table>\n",
       "</div>"
      ],
      "text/plain": [
       "   survival  alive  pericardialeffusion   age  fractionalshortening  epss  \\\n",
       "0      11.0      0                    0  71.0                  0.26   9.0   \n",
       "1      19.0      0                    0  72.0                  0.38   6.0   \n",
       "\n",
       "   lvdd  wallmotion_index  dead  survival_48  dead_48  \n",
       "0   4.6               1.0   1.0         11.0      1.0  \n",
       "1   4.1               1.7   1.0         19.0      1.0  "
      ]
     },
     "execution_count": 42,
     "metadata": {},
     "output_type": "execute_result"
    }
   ],
   "source": [
    "df48.head(2)"
   ]
  },
  {
   "cell_type": "code",
   "execution_count": 43,
   "id": "56f5d866",
   "metadata": {},
   "outputs": [
    {
     "data": {
      "text/plain": [
       "<lifelines.CoxPHFitter: fitted with 130 total observations, 51 right-censored observations>"
      ]
     },
     "execution_count": 43,
     "metadata": {},
     "output_type": "execute_result"
    }
   ],
   "source": [
    "coxph = CoxPHFitter()\n",
    "coxph.fit(df=df48,\n",
    "         duration_col = \"survival_48\",\n",
    "         event_col = \"dead_48\",\n",
    "         formula = \"pericardialeffusion + age + fractionalshortening + epss + lvdd + wallmotion_index\")"
   ]
  },
  {
   "cell_type": "code",
   "execution_count": 44,
   "id": "c99f1f91",
   "metadata": {},
   "outputs": [
    {
     "data": {
      "text/html": [
       "<div>\n",
       "<style scoped>\n",
       "    .dataframe tbody tr th:only-of-type {\n",
       "        vertical-align: middle;\n",
       "    }\n",
       "\n",
       "    .dataframe tbody tr th {\n",
       "        vertical-align: top;\n",
       "    }\n",
       "\n",
       "    .dataframe thead th {\n",
       "        text-align: right;\n",
       "    }\n",
       "</style>\n",
       "<table border=\"1\" class=\"dataframe\">\n",
       "  <tbody>\n",
       "    <tr>\n",
       "      <th>model</th>\n",
       "      <td>lifelines.CoxPHFitter</td>\n",
       "    </tr>\n",
       "    <tr>\n",
       "      <th>duration col</th>\n",
       "      <td>'survival_48'</td>\n",
       "    </tr>\n",
       "    <tr>\n",
       "      <th>event col</th>\n",
       "      <td>'dead_48'</td>\n",
       "    </tr>\n",
       "    <tr>\n",
       "      <th>baseline estimation</th>\n",
       "      <td>breslow</td>\n",
       "    </tr>\n",
       "    <tr>\n",
       "      <th>number of observations</th>\n",
       "      <td>130</td>\n",
       "    </tr>\n",
       "    <tr>\n",
       "      <th>number of events observed</th>\n",
       "      <td>79</td>\n",
       "    </tr>\n",
       "    <tr>\n",
       "      <th>partial log-likelihood</th>\n",
       "      <td>-299.05</td>\n",
       "    </tr>\n",
       "    <tr>\n",
       "      <th>time fit was run</th>\n",
       "      <td>2023-02-08 19:57:56 UTC</td>\n",
       "    </tr>\n",
       "  </tbody>\n",
       "</table>\n",
       "</div><table border=\"1\" class=\"dataframe\">\n",
       "  <thead>\n",
       "    <tr style=\"text-align: right;\">\n",
       "      <th style=\"min-width: 12px;\"></th>\n",
       "      <th style=\"min-width: 12px;\">coef</th>\n",
       "      <th style=\"min-width: 12px;\">exp(coef)</th>\n",
       "      <th style=\"min-width: 12px;\">se(coef)</th>\n",
       "      <th style=\"min-width: 12px;\">coef lower 95%</th>\n",
       "      <th style=\"min-width: 12px;\">coef upper 95%</th>\n",
       "      <th style=\"min-width: 12px;\">exp(coef) lower 95%</th>\n",
       "      <th style=\"min-width: 12px;\">exp(coef) upper 95%</th>\n",
       "      <th style=\"min-width: 12px;\">cmp to</th>\n",
       "      <th style=\"min-width: 12px;\">z</th>\n",
       "      <th style=\"min-width: 12px;\">p</th>\n",
       "      <th style=\"min-width: 12px;\">-log2(p)</th>\n",
       "    </tr>\n",
       "  </thead>\n",
       "  <tbody>\n",
       "    <tr>\n",
       "      <th>age</th>\n",
       "      <td>-0.01</td>\n",
       "      <td>0.99</td>\n",
       "      <td>0.01</td>\n",
       "      <td>-0.04</td>\n",
       "      <td>0.02</td>\n",
       "      <td>0.96</td>\n",
       "      <td>1.02</td>\n",
       "      <td>0.00</td>\n",
       "      <td>-0.86</td>\n",
       "      <td>0.39</td>\n",
       "      <td>1.37</td>\n",
       "    </tr>\n",
       "    <tr>\n",
       "      <th>epss</th>\n",
       "      <td>0.02</td>\n",
       "      <td>1.02</td>\n",
       "      <td>0.02</td>\n",
       "      <td>-0.03</td>\n",
       "      <td>0.06</td>\n",
       "      <td>0.97</td>\n",
       "      <td>1.07</td>\n",
       "      <td>0.00</td>\n",
       "      <td>0.69</td>\n",
       "      <td>0.49</td>\n",
       "      <td>1.04</td>\n",
       "    </tr>\n",
       "    <tr>\n",
       "      <th>fractionalshortening</th>\n",
       "      <td>-0.51</td>\n",
       "      <td>0.60</td>\n",
       "      <td>1.21</td>\n",
       "      <td>-2.89</td>\n",
       "      <td>1.87</td>\n",
       "      <td>0.06</td>\n",
       "      <td>6.48</td>\n",
       "      <td>0.00</td>\n",
       "      <td>-0.42</td>\n",
       "      <td>0.67</td>\n",
       "      <td>0.57</td>\n",
       "    </tr>\n",
       "    <tr>\n",
       "      <th>lvdd</th>\n",
       "      <td>-0.03</td>\n",
       "      <td>0.97</td>\n",
       "      <td>0.17</td>\n",
       "      <td>-0.37</td>\n",
       "      <td>0.30</td>\n",
       "      <td>0.69</td>\n",
       "      <td>1.35</td>\n",
       "      <td>0.00</td>\n",
       "      <td>-0.20</td>\n",
       "      <td>0.84</td>\n",
       "      <td>0.25</td>\n",
       "    </tr>\n",
       "    <tr>\n",
       "      <th>pericardialeffusion</th>\n",
       "      <td>-0.09</td>\n",
       "      <td>0.91</td>\n",
       "      <td>0.35</td>\n",
       "      <td>-0.77</td>\n",
       "      <td>0.59</td>\n",
       "      <td>0.46</td>\n",
       "      <td>1.80</td>\n",
       "      <td>0.00</td>\n",
       "      <td>-0.26</td>\n",
       "      <td>0.79</td>\n",
       "      <td>0.33</td>\n",
       "    </tr>\n",
       "    <tr>\n",
       "      <th>wallmotion_index</th>\n",
       "      <td>0.01</td>\n",
       "      <td>1.01</td>\n",
       "      <td>0.35</td>\n",
       "      <td>-0.69</td>\n",
       "      <td>0.70</td>\n",
       "      <td>0.50</td>\n",
       "      <td>2.01</td>\n",
       "      <td>0.00</td>\n",
       "      <td>0.01</td>\n",
       "      <td>0.99</td>\n",
       "      <td>0.02</td>\n",
       "    </tr>\n",
       "  </tbody>\n",
       "</table><br><div>\n",
       "<style scoped>\n",
       "    .dataframe tbody tr th:only-of-type {\n",
       "        vertical-align: middle;\n",
       "    }\n",
       "\n",
       "    .dataframe tbody tr th {\n",
       "        vertical-align: top;\n",
       "    }\n",
       "\n",
       "    .dataframe thead th {\n",
       "        text-align: right;\n",
       "    }\n",
       "</style>\n",
       "<table border=\"1\" class=\"dataframe\">\n",
       "  <tbody>\n",
       "    <tr>\n",
       "      <th>Concordance</th>\n",
       "      <td>0.52</td>\n",
       "    </tr>\n",
       "    <tr>\n",
       "      <th>Partial AIC</th>\n",
       "      <td>610.11</td>\n",
       "    </tr>\n",
       "    <tr>\n",
       "      <th>log-likelihood ratio test</th>\n",
       "      <td>1.89 on 6 df</td>\n",
       "    </tr>\n",
       "    <tr>\n",
       "      <th>-log2(p) of ll-ratio test</th>\n",
       "      <td>0.11</td>\n",
       "    </tr>\n",
       "  </tbody>\n",
       "</table>\n",
       "</div>"
      ],
      "text/latex": [
       "\\begin{tabular}{lrrrrrrrrrrr}\n",
       " & coef & exp(coef) & se(coef) & coef lower 95% & coef upper 95% & exp(coef) lower 95% & exp(coef) upper 95% & cmp to & z & p & -log2(p) \\\\\n",
       "covariate &  &  &  &  &  &  &  &  &  &  &  \\\\\n",
       "age & -0.01 & 0.99 & 0.01 & -0.04 & 0.02 & 0.96 & 1.02 & 0.00 & -0.86 & 0.39 & 1.37 \\\\\n",
       "epss & 0.02 & 1.02 & 0.02 & -0.03 & 0.06 & 0.97 & 1.07 & 0.00 & 0.69 & 0.49 & 1.04 \\\\\n",
       "fractionalshortening & -0.51 & 0.60 & 1.21 & -2.89 & 1.87 & 0.06 & 6.48 & 0.00 & -0.42 & 0.67 & 0.57 \\\\\n",
       "lvdd & -0.03 & 0.97 & 0.17 & -0.37 & 0.30 & 0.69 & 1.35 & 0.00 & -0.20 & 0.84 & 0.25 \\\\\n",
       "pericardialeffusion & -0.09 & 0.91 & 0.35 & -0.77 & 0.59 & 0.46 & 1.80 & 0.00 & -0.26 & 0.79 & 0.33 \\\\\n",
       "wallmotion_index & 0.01 & 1.01 & 0.35 & -0.69 & 0.70 & 0.50 & 2.01 & 0.00 & 0.01 & 0.99 & 0.02 \\\\\n",
       "\\end{tabular}\n"
      ],
      "text/plain": [
       "<lifelines.CoxPHFitter: fitted with 130 total observations, 51 right-censored observations>\n",
       "             duration col = 'survival_48'\n",
       "                event col = 'dead_48'\n",
       "      baseline estimation = breslow\n",
       "   number of observations = 130\n",
       "number of events observed = 79\n",
       "   partial log-likelihood = -299.05\n",
       "         time fit was run = 2023-02-08 19:57:56 UTC\n",
       "\n",
       "---\n",
       "                       coef  exp(coef)   se(coef)   coef lower 95%   coef upper 95%  exp(coef) lower 95%  exp(coef) upper 95%\n",
       "covariate                                                                                                                    \n",
       "age                   -0.01       0.99       0.01            -0.04             0.02                 0.96                 1.02\n",
       "epss                   0.02       1.02       0.02            -0.03             0.06                 0.97                 1.07\n",
       "fractionalshortening  -0.51       0.60       1.21            -2.89             1.87                 0.06                 6.48\n",
       "lvdd                  -0.03       0.97       0.17            -0.37             0.30                 0.69                 1.35\n",
       "pericardialeffusion   -0.09       0.91       0.35            -0.77             0.59                 0.46                 1.80\n",
       "wallmotion_index       0.01       1.01       0.35            -0.69             0.70                 0.50                 2.01\n",
       "\n",
       "                       cmp to     z    p   -log2(p)\n",
       "covariate                                          \n",
       "age                      0.00 -0.86 0.39       1.37\n",
       "epss                     0.00  0.69 0.49       1.04\n",
       "fractionalshortening     0.00 -0.42 0.67       0.57\n",
       "lvdd                     0.00 -0.20 0.84       0.25\n",
       "pericardialeffusion      0.00 -0.26 0.79       0.33\n",
       "wallmotion_index         0.00  0.01 0.99       0.02\n",
       "---\n",
       "Concordance = 0.52\n",
       "Partial AIC = 610.11\n",
       "log-likelihood ratio test = 1.89 on 6 df\n",
       "-log2(p) of ll-ratio test = 0.11"
      ]
     },
     "metadata": {},
     "output_type": "display_data"
    }
   ],
   "source": [
    "coxph.print_summary()"
   ]
  },
  {
   "cell_type": "code",
   "execution_count": null,
   "id": "d60f8b4b",
   "metadata": {},
   "outputs": [],
   "source": []
  },
  {
   "cell_type": "code",
   "execution_count": null,
   "id": "7a5d60e7",
   "metadata": {},
   "outputs": [],
   "source": []
  }
 ],
 "metadata": {
  "kernelspec": {
   "display_name": "Python 3 (ipykernel)",
   "language": "python",
   "name": "python3"
  },
  "language_info": {
   "codemirror_mode": {
    "name": "ipython",
    "version": 3
   },
   "file_extension": ".py",
   "mimetype": "text/x-python",
   "name": "python",
   "nbconvert_exporter": "python",
   "pygments_lexer": "ipython3",
   "version": "3.9.13"
  }
 },
 "nbformat": 4,
 "nbformat_minor": 5
}
